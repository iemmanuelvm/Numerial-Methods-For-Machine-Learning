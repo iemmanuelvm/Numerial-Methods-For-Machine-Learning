{
 "cells": [
  {
   "cell_type": "code",
   "execution_count": 1,
   "id": "f667b22a",
   "metadata": {},
   "outputs": [],
   "source": [
    "#Importamos las librerias\n",
    "import numpy as np\n",
    "import matplotlib.pyplot as plt\n",
    "from mpl_toolkits.mplot3d import Axes3D\n",
    "from matplotlib import cm\n",
    "import time\n",
    "from numpy import linalg as LA\n",
    "import random\n",
    "from time import time\n",
    "%matplotlib qt"
   ]
  },
  {
   "cell_type": "code",
   "execution_count": 2,
   "id": "e1e23ff4",
   "metadata": {},
   "outputs": [],
   "source": [
    "#Definimos la funcion a minimizar\n",
    "def f(x):\n",
    "    fx = 100*(np.sqrt(x[0]**2+(x[1]+1)**2)-1)**2 + 90*(np.sqrt(x[0]**2+(x[1]+1)**2)-1)**2 -(20*x[0]+40*x[1])\n",
    "    return fx"
   ]
  },
  {
   "cell_type": "code",
   "execution_count": 3,
   "id": "ce58ed04",
   "metadata": {},
   "outputs": [],
   "source": [
    "#Definir funcion para calcular la matriz del gradiente\n",
    "def gradient(x,delta):\n",
    "    grad=np.zeros(2)\n",
    "    grad[0]=(f([x[0]+delta,x[1]])- f([x[0]-delta,x[1]]))/(2*delta)\n",
    "    grad[1]=(f([x[0],x[1]+delta])- f([x[0],x[1]-delta]))/(2*delta)\n",
    "    return grad"
   ]
  },
  {
   "cell_type": "code",
   "execution_count": 4,
   "id": "53ac21f1",
   "metadata": {},
   "outputs": [],
   "source": [
    "#Definir funcion para calcular la matriz Hessiana\n",
    "def Hessian(x,delta):\n",
    "    H=np.zeros([2,2])\n",
    "    H[0,0]= (f([x[0]+delta,x[1]]) - 2*f([x[0],x[1]]) +  f([x[0]-delta,x[1]]))/(delta**2)\n",
    "    H[1,1]= (f([x[0],x[1]+delta]) - 2*f([x[0],x[1]]) +  f([x[0],x[1]-delta]))/(delta**2)\n",
    "    H[0,1]= (f([x[0]+delta,x[1]+delta]) - f([x[0]+delta,x[1]-delta]) - f([x[0]-delta,x[1]+delta]) +  f([x[0]-delta,x[1]-delta]))/(4*delta**2)\n",
    "    H[1,0]= H[0,1]\n",
    "    return H"
   ]
  },
  {
   "cell_type": "code",
   "execution_count": 5,
   "id": "f2093abc",
   "metadata": {},
   "outputs": [],
   "source": [
    "#Utilizamos el algoritmo de golden section para encontrar alpha optimo\n",
    "def golden(x,search,xi,eps):\n",
    "    a = xi[0];\n",
    "    b = xi[1];\n",
    "    tau = 0.381967;\n",
    "    alpha1 = a*(1-tau) + b*tau;\n",
    "    alpha2 = a*tau + b*(1-tau);\n",
    "    falpha1 = f(x+alpha1*search);\n",
    "    falpha2 = f(x+alpha2*search);\n",
    "    for i in range(100):\n",
    "        if falpha1 > falpha2:\n",
    "            a = alpha1;\n",
    "            alpha1 = alpha2;\n",
    "            falpha1 = falpha2;\n",
    "            alpha2 = tau*a + (1-tau)*b;\n",
    "            falpha2 = f(x+alpha2*search);\n",
    "        else:\n",
    "            b = alpha2;\n",
    "            alpha2 = alpha1;\n",
    "            falpha2 = falpha1;\n",
    "            alpha1 = tau*b + (1-tau)*a;\n",
    "            falpha1 = f(x+alpha1*search);\n",
    "        if np.abs(f(x+alpha1*search)- f(x+alpha2*search)) < eps :\n",
    "            break;\n",
    "    return alpha1,falpha1"
   ]
  },
  {
   "cell_type": "code",
   "execution_count": 6,
   "id": "9641c12c",
   "metadata": {},
   "outputs": [],
   "source": [
    "#Graficamos la funcion de prueba\n",
    "X1 = np.arange(-5, 5, 0.01)\n",
    "X2 = np.arange(-5, 5, 0.01)\n",
    "x1, x2 = np.meshgrid(X1, X2)\n",
    "z = f([x1,x2])\n",
    "fig = plt.figure()\n",
    "ax = fig.add_subplot(projection = '3d')\n",
    "surf = ax.plot_surface(x1, x2, z, cmap=cm.autumn, linewidth=0, antialiased = False, alpha=0.2)\n",
    "plt.show()"
   ]
  },
  {
   "cell_type": "code",
   "execution_count": 7,
   "id": "e418d243",
   "metadata": {},
   "outputs": [],
   "source": [
    "#Variable en comun de los métodos\n",
    "delta = 1e-3 \n",
    "ep1 = 1e-3\n",
    "puntosM = []"
   ]
  },
  {
   "cell_type": "code",
   "execution_count": 8,
   "id": "17ae4409",
   "metadata": {},
   "outputs": [],
   "source": [
    "def graficaUnaaUna(puntos, nombreMetodo):\n",
    "    #Generamos valores ramdom para generar un color diferente de grafica\n",
    "    r = random.random()\n",
    "    b = random.random()\n",
    "    g = random.random()\n",
    "    color = (r, g, b)\n",
    "    aux = 0\n",
    "    x = np.linspace(-1, 1, 100)\n",
    "    y = np.linspace(-1, 1, 100)\n",
    "    xx, yy = np.meshgrid(x, y)\n",
    "    z = f([xx, yy])\n",
    "    plt.contour(x,y,z,20)\n",
    "    plt.plot(-1,-1, 'ro--',  markersize=6)\n",
    "    plt.plot(0.5,0, 'go--', markersize=6)\n",
    "    #Graficamos los trazos (direcciones) que va generando el algoritmo\n",
    "    for pts in puntos:\n",
    "        if(aux==len(puntos)-1):\n",
    "            plt.plot(pts[0],pts[1], c=color, linewidth=2, label=str(nombreMetodo))\n",
    "        else:\n",
    "            plt.plot(pts[0],pts[1], c=color, linewidth=2)\n",
    "        aux = aux + 1\n",
    "    plt.legend()    \n",
    "    plt.show"
   ]
  },
  {
   "cell_type": "code",
   "execution_count": 10,
   "id": "d7cfa8ff",
   "metadata": {},
   "outputs": [
    {
     "name": "stdout",
     "output_type": "stream",
     "text": [
      "Valor de la función inicial = 270.294169 \n",
      "0\t[-0.9778,0.9634]\t\t270.2942\t\t444.3158\n",
      "1\t[-0.9363,0.8955]\t\t251.6203\t\t428.0979\n",
      "2\t[-0.8635,0.7779]\t\t218.7471\t\t397.9601\n",
      "3\t[-0.7492,0.5990]\t\t167.3425\t\t345.6663\n",
      "4\t[-0.5978,0.3806]\t\t102.4403\t\t265.5825\n",
      "5\t[-0.4329,0.1956]\t\t45.0861\t\t166.5017\n",
      "6\t[-0.2585,0.1152]\t\t14.8448\t\t79.3220\n",
      "7\t[-0.0282,0.1225]\t\t4.5436\t\t35.1505\n",
      "8\t[0.2325,0.1119]\t\t-1.4682\t\t22.1993\n",
      "9\t[0.3997,0.0554]\t\t-5.6152\t\t14.1528\n",
      "10\t[0.4757,0.0147]\t\t-7.0701\t\t6.2961\n",
      "11\t[0.4968,0.0015]\t\t-7.3353\t\t1.6001\n",
      "12\t[0.4997,-0.0002]\t\t-7.3527\t\t0.1763\n",
      "Tiempo transcurrido: 3.970623\n",
      "Iteraciones: 12\n"
     ]
    }
   ],
   "source": [
    "start_time = time() #Conteo para tiempo\n",
    "iteraciones = 0 #Conteo de numero de iteraciones\n",
    "I = np.identity(2) #Se establece la matriz identidad 2x2\n",
    "labda = 10000 #Se define un labda inicial\n",
    "x = [-1,1] #Punto de partida\n",
    "x_prev = x #Definimos una variable de punto anterior\n",
    "fx_prev=f(x) #Se evalua la funcion con el punto inicial\n",
    "print('Valor de la función inicial = %f ' % fx_prev)\n",
    "for i in range(1000): #Proceso iterativo del algoritmo\n",
    "    xAntLM = x #Almacenamos el punto anterior\n",
    "    G = gradient(x,delta) #Se calcula el vector gradiente\n",
    "    H = Hessian(x,delta) #Se calcula la matriz Hessiana\n",
    "    S = -np.matmul(np.linalg.inv((H+labda*I)),G) #Se realiza la multiplicacion del resultado la inversa Hessiana summada la matriz Identidad multiplicada por labda, el resultado es multiplicado por el gradiente de la funcion\n",
    "    x=x+S #Se actuliza el nuevo punto optimo\n",
    "    fx=f(x) #Se evalua la funcion con el nuevo punto optimo\n",
    "    if(fx<fx_prev): #Si fx es menor al previo la nueva labda sera multiplicada por 0.5 y se tendra un nuevo tamaño de paso\n",
    "        labda=.5*labda\n",
    "    else: #Caso contrario labda sera multiplicado por 2\n",
    "        labda=2*labda\n",
    "    #Almacenamos los puntos de direccion para trazar la grafoica\n",
    "    puntosM.append([[x[0],xAntLM[0]],[x[1],xAntLM[1]]])  \n",
    "    #Establecemos como condicion de paro, que la diferencia fx_anterior-fx_actual sea menor a epsilon o que la norma del gradiente sea menor a epsilon\n",
    "    if(abs(fx_prev - fx) < ep1 or LA.norm(G)<ep1):\n",
    "        print('{0}\\t[{1:.4f},{2:.4f}]\\t\\t{3:.4f}\\t\\t{4:.4f}'.format(i, x[0], x[1],fx_prev,LA.norm(G)))\n",
    "        break\n",
    "    print('{0}\\t[{1:.4f},{2:.4f}]\\t\\t{3:.4f}\\t\\t{4:.4f}'.format(i, x[0], x[1],fx_prev,LA.norm(G)))\n",
    "    fx_prev=fx #Ahora fx sera fx anterior     \n",
    "    iteraciones+=1\n",
    "elapsed_time = (time() - start_time)*1000\n",
    "print(\"Tiempo transcurrido: %f\" % elapsed_time)\n",
    "print(\"Iteraciones: %d\" % iteraciones)\n",
    "#Graficamos el resultado del Steepest descent method\n",
    "graficaUnaaUna(puntosM, 'Marquardt’s method') "
   ]
  }
 ],
 "metadata": {
  "kernelspec": {
   "display_name": "Python 3 (ipykernel)",
   "language": "python",
   "name": "python3"
  },
  "language_info": {
   "codemirror_mode": {
    "name": "ipython",
    "version": 3
   },
   "file_extension": ".py",
   "mimetype": "text/x-python",
   "name": "python",
   "nbconvert_exporter": "python",
   "pygments_lexer": "ipython3",
   "version": "3.9.7"
  }
 },
 "nbformat": 4,
 "nbformat_minor": 5
}
