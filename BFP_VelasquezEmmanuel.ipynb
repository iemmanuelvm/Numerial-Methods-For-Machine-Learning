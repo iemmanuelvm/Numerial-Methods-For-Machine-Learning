{
 "cells": [
  {
   "cell_type": "code",
   "execution_count": 1,
   "id": "d05470a7",
   "metadata": {},
   "outputs": [],
   "source": [
    "#Importamos las modulos\n",
    "import numpy as np\n",
    "import matplotlib.pyplot as plt\n",
    "from mpl_toolkits.mplot3d import Axes3D\n",
    "from matplotlib import cm\n",
    "import time\n",
    "from numpy import linalg as LA\n",
    "import random\n",
    "from time import time\n",
    "%matplotlib qt"
   ]
  },
  {
   "cell_type": "code",
   "execution_count": 2,
   "id": "a88c16e7",
   "metadata": {},
   "outputs": [],
   "source": [
    "#Definimos la funcion a minimizar\n",
    "def f(x):\n",
    "    fx = 100*(np.sqrt(x[0]**2+(x[1]+1)**2)-1)**2 + 90*(np.sqrt(x[0]**2+(x[1]+1)**2)-1)**2 -(20*x[0]+40*x[1])\n",
    "    return fx"
   ]
  },
  {
   "cell_type": "code",
   "execution_count": 3,
   "id": "7b0fbe32",
   "metadata": {},
   "outputs": [],
   "source": [
    "#Definir funcion para calcular la matriz del gradiente\n",
    "def gradient(x,delta):\n",
    "    grad=np.zeros(2)\n",
    "    grad[0]=(f([x[0]+delta,x[1]])- f([x[0]-delta,x[1]]))/(2*delta)\n",
    "    grad[1]=(f([x[0],x[1]+delta])- f([x[0],x[1]-delta]))/(2*delta)\n",
    "    return grad"
   ]
  },
  {
   "cell_type": "code",
   "execution_count": 4,
   "id": "1df91d84",
   "metadata": {},
   "outputs": [],
   "source": [
    "#Utilizamos el algoritmo de golden section para encontrar alpha optimo\n",
    "def golden(x,search,xi,eps):\n",
    "    a = xi[0];\n",
    "    b = xi[1];\n",
    "    tau = 0.381967;\n",
    "    alpha1 = a*(1-tau) + b*tau;\n",
    "    alpha2 = a*tau + b*(1-tau);\n",
    "    falpha1 = f(x+alpha1*search);\n",
    "    falpha2 = f(x+alpha2*search);\n",
    "    for i in range(100):\n",
    "        if falpha1 > falpha2:\n",
    "            a = alpha1;\n",
    "            alpha1 = alpha2;\n",
    "            falpha1 = falpha2;\n",
    "            alpha2 = tau*a + (1-tau)*b;\n",
    "            falpha2 = f(x+alpha2*search);\n",
    "        else:\n",
    "            b = alpha2;\n",
    "            alpha2 = alpha1;\n",
    "            falpha2 = falpha1;\n",
    "            alpha1 = tau*b + (1-tau)*a;\n",
    "            falpha1 = f(x+alpha1*search);\n",
    "        if np.abs(f(x+alpha1*search)- f(x+alpha2*search)) < eps :\n",
    "            break;\n",
    "    return alpha1,falpha1"
   ]
  },
  {
   "cell_type": "code",
   "execution_count": 5,
   "id": "ef1a905b",
   "metadata": {},
   "outputs": [],
   "source": [
    "#Graficamos la funcion de prueba\n",
    "X1 = np.arange(-5, 5, 0.01)\n",
    "X2 = np.arange(-5, 5, 0.01)\n",
    "x1, x2 = np.meshgrid(X1, X2)\n",
    "z = f([x1,x2])\n",
    "fig = plt.figure()\n",
    "ax = fig.add_subplot(projection = '3d')\n",
    "surf = ax.plot_surface(x1, x2, z, cmap=cm.autumn, linewidth=0, antialiased = False, alpha=0.2)\n",
    "plt.show()"
   ]
  },
  {
   "cell_type": "code",
   "execution_count": 6,
   "id": "3557abd3",
   "metadata": {},
   "outputs": [],
   "source": [
    "#Variable en comun de los métodos\n",
    "delta = 1e-3 \n",
    "ep1 = 1e-3"
   ]
  },
  {
   "cell_type": "code",
   "execution_count": 7,
   "id": "c5c05800",
   "metadata": {},
   "outputs": [],
   "source": [
    "puntosBFP = []"
   ]
  },
  {
   "cell_type": "code",
   "execution_count": 8,
   "id": "f3728c52",
   "metadata": {},
   "outputs": [],
   "source": [
    "def graficaUnaaUna(puntos, nombreMetodo):\n",
    "    #Generamos valores ramdom para generar un color diferente de grafica\n",
    "    r = random.random()\n",
    "    b = random.random()\n",
    "    g = random.random()\n",
    "    color = (r, g, b)\n",
    "    aux = 0\n",
    "    x = np.linspace(-1.3, 1.3, 100)\n",
    "    y = np.linspace(-3, 1.3, 100)\n",
    "    xx, yy = np.meshgrid(x, y)\n",
    "    z = f([xx, yy])\n",
    "    plt.contour(x,y,z,20)\n",
    "    plt.plot(-1,1, 'ro--',  markersize=6)\n",
    "    plt.plot(0.5,0, 'go--', markersize=6)\n",
    "    #Graficamos los trazos (direcciones) que va generando el algoritmo\n",
    "    for pts in puntos:\n",
    "        if(aux==len(puntos)-1):\n",
    "            plt.plot(pts[0],pts[1], c=color, linewidth=2, label=str(nombreMetodo))\n",
    "        else:\n",
    "            plt.plot(pts[0],pts[1], c=color, linewidth=2)\n",
    "        aux = aux + 1\n",
    "    plt.legend()    \n",
    "    plt.show"
   ]
  },
  {
   "cell_type": "markdown",
   "id": "17ae1d6b",
   "metadata": {},
   "source": [
    "## DFP method"
   ]
  },
  {
   "cell_type": "code",
   "execution_count": 9,
   "id": "04e08f3c",
   "metadata": {},
   "outputs": [
    {
     "name": "stdout",
     "output_type": "stream",
     "text": [
      "Valor de la función inicial = 270.294169 \n",
      "0\t[-1.000,1.000]\t-0.864\t444.316\n",
      "1\t[-0.389,-0.009]\t-4.201\t33.677\n",
      "2\t[0.022,0.199]\t-6.867\t40.221\n",
      "3\t[0.200,0.168]\t-7.267\t30.562\n",
      "4\t[0.364,0.068]\t-7.349\t7.573\n",
      "5\t[0.475,0.031]\t-7.352\t6.891\n",
      "6\t[0.490,0.007]\t-7.352\t0.861\n",
      "Tiempo transcurrido: 4.982948\n",
      "Iteraciones: 7\n"
     ]
    }
   ],
   "source": [
    "start_time = time()\n",
    "xi = [-1,1]\n",
    "x = xi\n",
    "Bi = np.eye(len(x))\n",
    "fx_prev = f(x)\n",
    "print('Valor de la función inicial = %f ' % fx_prev) #Valor inicial de la funcion con el punto inicial\n",
    "iteraciones = 1 #Conteo de numero de iteraciones\n",
    "Gx = gradient(x,delta) #Direccion de busqueda\n",
    "S = -Gx \n",
    "alpha,fx_prev = golden(x,S,xi,ep1)\n",
    "xi_1 = x + alpha*S       \n",
    "for j in range(1000):\n",
    "    deltax=xi_1-x\n",
    "    Gxi=gradient(xi_1,delta)\n",
    "    Gi = Gxi-Gx\n",
    "    Bi = Bi + (np.matmul(np.reshape(deltax,(2,1)),np.reshape(deltax,(1,2)))/np.matmul(deltax,Gi.transpose())) - (np.matmul(np.matmul(np.matmul(Bi, np.reshape(Gi,(2,1))), np.reshape(Gi,(1,2))),Bi) / np.matmul(np.matmul(np.reshape(Gi,(1,2)),Bi), np.reshape(Gi,(2,1))))\n",
    "    si = np.matmul(-Bi,Gxi.transpose())\n",
    "    si = np.ndarray.flatten(si.transpose())\n",
    "    alpha,fx_curr = golden(xi_1[:],si,xi,ep1)\n",
    "    print('{0}\\t[{1:.3f},{2:.3f}]\\t{3:.3f}\\t{4:.3f}'.format(j, x[0], x[1],fx_curr,LA.norm(Gx)))\n",
    "    if abs(fx_curr-fx_prev)<ep1 or LA.norm(Gx)<ep1:\n",
    "        break\n",
    "    fx_prev=fx_curr\n",
    "    Gx = Gxi\n",
    "    iteraciones+=1\n",
    "    puntosBFP.append([[x[0],xi_1[0]],[x[1],xi_1[1]]])\n",
    "    x=xi_1\n",
    "    xi_1 = x + alpha*si\n",
    "elapsed_time = (time() - start_time)*1000\n",
    "print(\"Tiempo transcurrido: %f\" % elapsed_time)\n",
    "print(\"Iteraciones: %d\" % iteraciones)\n",
    "graficaUnaaUna(puntosBFP, 'BFP')  "
   ]
  },
  {
   "cell_type": "code",
   "execution_count": null,
   "id": "192b64d7",
   "metadata": {},
   "outputs": [],
   "source": []
  }
 ],
 "metadata": {
  "kernelspec": {
   "display_name": "Python 3 (ipykernel)",
   "language": "python",
   "name": "python3"
  },
  "language_info": {
   "codemirror_mode": {
    "name": "ipython",
    "version": 3
   },
   "file_extension": ".py",
   "mimetype": "text/x-python",
   "name": "python",
   "nbconvert_exporter": "python",
   "pygments_lexer": "ipython3",
   "version": "3.9.7"
  }
 },
 "nbformat": 4,
 "nbformat_minor": 5
}
