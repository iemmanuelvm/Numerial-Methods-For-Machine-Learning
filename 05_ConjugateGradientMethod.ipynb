{
 "cells": [
  {
   "cell_type": "code",
   "execution_count": 1,
   "id": "f667b22a",
   "metadata": {},
   "outputs": [],
   "source": [
    "#Importamos las librerias\n",
    "import numpy as np\n",
    "import matplotlib.pyplot as plt\n",
    "from mpl_toolkits.mplot3d import Axes3D\n",
    "from matplotlib import cm\n",
    "import time\n",
    "from numpy import linalg as LA\n",
    "import random\n",
    "from time import time\n",
    "%matplotlib qt"
   ]
  },
  {
   "cell_type": "code",
   "execution_count": 2,
   "id": "e1e23ff4",
   "metadata": {},
   "outputs": [],
   "source": [
    "#Definimos la funcion a minimizar\n",
    "def f(x):\n",
    "    fx = 100*(np.sqrt(x[0]**2+(x[1]+1)**2)-1)**2 + 90*(np.sqrt(x[0]**2+(x[1]+1)**2)-1)**2 -(20*x[0]+40*x[1])\n",
    "    return fx"
   ]
  },
  {
   "cell_type": "code",
   "execution_count": 3,
   "id": "ce58ed04",
   "metadata": {},
   "outputs": [],
   "source": [
    "#Definir funcion para calcular la matriz del gradiente\n",
    "def gradient(x,delta):\n",
    "    grad=np.zeros(2)\n",
    "    grad[0]=(f([x[0]+delta,x[1]])- f([x[0]-delta,x[1]]))/(2*delta)\n",
    "    grad[1]=(f([x[0],x[1]+delta])- f([x[0],x[1]-delta]))/(2*delta)\n",
    "    return grad"
   ]
  },
  {
   "cell_type": "code",
   "execution_count": 4,
   "id": "53ac21f1",
   "metadata": {},
   "outputs": [],
   "source": [
    "#Definir funcion para calcular la matriz Hessiana\n",
    "def Hessian(x,delta):\n",
    "    H=np.zeros([2,2])\n",
    "    H[0,0]= (f([x[0]+delta,x[1]]) - 2*f([x[0],x[1]]) +  f([x[0]-delta,x[1]]))/(delta**2)\n",
    "    H[1,1]= (f([x[0],x[1]+delta]) - 2*f([x[0],x[1]]) +  f([x[0],x[1]-delta]))/(delta**2)\n",
    "    H[0,1]= (f([x[0]+delta,x[1]+delta]) - f([x[0]+delta,x[1]-delta]) - f([x[0]-delta,x[1]+delta]) +  f([x[0]-delta,x[1]-delta]))/(4*delta**2)\n",
    "    H[1,0]= H[0,1]\n",
    "    return H"
   ]
  },
  {
   "cell_type": "code",
   "execution_count": 5,
   "id": "f2093abc",
   "metadata": {},
   "outputs": [],
   "source": [
    "#Utilizamos el algoritmo de golden section para encontrar alpha optimo\n",
    "def golden(x,search,xi,eps):\n",
    "    a = xi[0];\n",
    "    b = xi[1];\n",
    "    tau = 0.381967;\n",
    "    alpha1 = a*(1-tau) + b*tau;\n",
    "    alpha2 = a*tau + b*(1-tau);\n",
    "    falpha1 = f(x+alpha1*search);\n",
    "    falpha2 = f(x+alpha2*search);\n",
    "    for i in range(100):\n",
    "        if falpha1 > falpha2:\n",
    "            a = alpha1;\n",
    "            alpha1 = alpha2;\n",
    "            falpha1 = falpha2;\n",
    "            alpha2 = tau*a + (1-tau)*b;\n",
    "            falpha2 = f(x+alpha2*search);\n",
    "        else:\n",
    "            b = alpha2;\n",
    "            alpha2 = alpha1;\n",
    "            falpha2 = falpha1;\n",
    "            alpha1 = tau*b + (1-tau)*a;\n",
    "            falpha1 = f(x+alpha1*search);\n",
    "        if np.abs(f(x+alpha1*search)- f(x+alpha2*search)) < eps :\n",
    "            break;\n",
    "    return alpha1,falpha1"
   ]
  },
  {
   "cell_type": "code",
   "execution_count": 6,
   "id": "9641c12c",
   "metadata": {},
   "outputs": [],
   "source": [
    "#Graficamos la funcion de prueba\n",
    "X1 = np.arange(-5, 5, 0.01)\n",
    "X2 = np.arange(-5, 5, 0.01)\n",
    "x1, x2 = np.meshgrid(X1, X2)\n",
    "z = f([x1,x2])\n",
    "fig = plt.figure()\n",
    "ax = fig.add_subplot(projection = '3d')\n",
    "surf = ax.plot_surface(x1, x2, z, cmap=cm.autumn, linewidth=0, antialiased = False, alpha=0.2)\n",
    "plt.show()"
   ]
  },
  {
   "cell_type": "code",
   "execution_count": 7,
   "id": "e418d243",
   "metadata": {},
   "outputs": [],
   "source": [
    "#Variable en comun de los métodos\n",
    "delta = 1e-3 \n",
    "ep1 = 1e-3\n",
    "puntosGC = []"
   ]
  },
  {
   "cell_type": "code",
   "execution_count": 8,
   "id": "17ae4409",
   "metadata": {},
   "outputs": [],
   "source": [
    "def graficaUnaaUna(puntos, nombreMetodo):\n",
    "    #Generamos valores ramdom para generar un color diferente de grafica\n",
    "    r = random.random()\n",
    "    b = random.random()\n",
    "    g = random.random()\n",
    "    color = (r, g, b)\n",
    "    aux = 0\n",
    "    x = np.linspace(-1, 1, 100)\n",
    "    y = np.linspace(-1, 1, 100)\n",
    "    xx, yy = np.meshgrid(x, y)\n",
    "    z = f([xx, yy])\n",
    "    plt.contour(x,y,z,20)\n",
    "    plt.plot(-1,-1, 'ro--',  markersize=6)\n",
    "    plt.plot(0.5,0, 'go--', markersize=6)\n",
    "    #Graficamos los trazos (direcciones) que va generando el algoritmo\n",
    "    for pts in puntos:\n",
    "        if(aux==len(puntos)-1):\n",
    "            plt.plot(pts[0],pts[1], c=color, linewidth=2, label=str(nombreMetodo))\n",
    "        else:\n",
    "            plt.plot(pts[0],pts[1], c=color, linewidth=2)\n",
    "        aux = aux + 1\n",
    "    plt.legend()    \n",
    "    plt.show"
   ]
  },
  {
   "cell_type": "code",
   "execution_count": 9,
   "id": "d7cfa8ff",
   "metadata": {},
   "outputs": [
    {
     "name": "stdout",
     "output_type": "stream",
     "text": [
      "Valor de la función inicial = 270.294169 \n",
      "0\t[0.030,0.199]\t-1.026\t33.677\n",
      "1\t[0.438,0.101]\t-6.301\t39.919\n",
      "2\t[0.502,-0.001]\t-7.353\t26.034\n",
      "3\t[0.502,-0.001]\t-7.353\t0.224\n",
      "Tiempo transcurrido: 2.989531\n",
      "Iteraciones: 3\n"
     ]
    },
    {
     "ename": "NameError",
     "evalue": "name 'times' is not defined",
     "output_type": "error",
     "traceback": [
      "\u001b[1;31m---------------------------------------------------------------------------\u001b[0m",
      "\u001b[1;31mNameError\u001b[0m                                 Traceback (most recent call last)",
      "\u001b[1;32m~\\AppData\\Local\\Temp/ipykernel_25544/229570298.py\u001b[0m in \u001b[0;36m<module>\u001b[1;34m\u001b[0m\n\u001b[0;32m     31\u001b[0m \u001b[1;31m#Graficamos el resultado del Steepest descent method\u001b[0m\u001b[1;33m\u001b[0m\u001b[1;33m\u001b[0m\u001b[0m\n\u001b[0;32m     32\u001b[0m \u001b[0mgraficaUnaaUna\u001b[0m\u001b[1;33m(\u001b[0m\u001b[0mpuntosGC\u001b[0m\u001b[1;33m,\u001b[0m \u001b[1;34m'Conjugate gradient method'\u001b[0m\u001b[1;33m)\u001b[0m\u001b[1;33m\u001b[0m\u001b[1;33m\u001b[0m\u001b[0m\n\u001b[1;32m---> 33\u001b[1;33m \u001b[0mtimes\u001b[0m\u001b[1;33m.\u001b[0m\u001b[0mappend\u001b[0m\u001b[1;33m(\u001b[0m\u001b[0melapsed_time\u001b[0m\u001b[1;33m)\u001b[0m\u001b[1;33m\u001b[0m\u001b[1;33m\u001b[0m\u001b[0m\n\u001b[0m\u001b[0;32m     34\u001b[0m \u001b[0miters\u001b[0m\u001b[1;33m.\u001b[0m\u001b[0mappend\u001b[0m\u001b[1;33m(\u001b[0m\u001b[0miteraciones\u001b[0m\u001b[1;33m)\u001b[0m\u001b[1;33m\u001b[0m\u001b[1;33m\u001b[0m\u001b[0m\n\u001b[0;32m     35\u001b[0m \u001b[0mpmins\u001b[0m\u001b[1;33m.\u001b[0m\u001b[0mappend\u001b[0m\u001b[1;33m(\u001b[0m\u001b[0mf\u001b[0m\u001b[1;33m(\u001b[0m\u001b[0mx\u001b[0m\u001b[1;33m)\u001b[0m\u001b[1;33m)\u001b[0m\u001b[1;33m\u001b[0m\u001b[1;33m\u001b[0m\u001b[0m\n",
      "\u001b[1;31mNameError\u001b[0m: name 'times' is not defined"
     ]
    }
   ],
   "source": [
    "start_time = time() #Conteo para tiempo\n",
    "iteraciones = 0 #Conteo de numero de iteraciones\n",
    "x = [-1,1] #Punto de partida\n",
    "x_prev1 = x #Definimos una variable de punto anterior\n",
    "x_prev = x #Definimos una variable de punto anterior\n",
    "f_prev = f(x) #Se evalua la funcion con el punto inicial\n",
    "print('Valor de la función inicial = %f ' % f_prev)\n",
    "dire_prev=gradient(x,delta)\n",
    "si_prev = -dire_prev\n",
    "#x,search,xi,eps\n",
    "alpha, fx_prev = golden(x,si_prev,x_prev,ep1);\n",
    "x = x +  alpha*si_prev \n",
    "for i in range(1000): #Proceso iterativo del algoritmo\n",
    "    dire=gradient(x,delta)\n",
    "    si = - dire +((LA.norm(dire)**2)/(LA.norm(dire_prev)**2))*si_prev;\n",
    "    alpha, fx_curr = golden(x,si,x_prev,ep1);\n",
    "    if abs(fx_curr-fx_prev)<ep1 or LA.norm(dire)<ep1:\n",
    "        print('{0}\\t[{1:.3f},{2:.3f}]\\t{3:.3f}\\t{4:.3f}'.format(i, x[0], x[1],fx_curr,LA.norm(dire)))\n",
    "        break;\n",
    "    dire_prev=dire\n",
    "    si_prev=si\n",
    "    x = x +  (alpha*si).transpose() \n",
    "    fx_prev=f(x)\n",
    "    print('{0}\\t[{1:.3f},{2:.3f}]\\t{3:.3f}\\t{4:.3f}'.format(i, x[0], x[1],fx_curr,LA.norm(dire)))\n",
    "    puntosGC.append([[x_prev1[0],x[0]],[x_prev1[1],x[1]]])\n",
    "    x_prev1 = x\n",
    "    iteraciones+=1\n",
    "elapsed_time = (time() - start_time)*1000\n",
    "print(\"Tiempo transcurrido: %f\" % elapsed_time)\n",
    "print(\"Iteraciones: %d\" % iteraciones)\n",
    "#Graficamos el resultado del Steepest descent method\n",
    "graficaUnaaUna(puntosGC, 'Conjugate gradient method')  "
   ]
  },
  {
   "cell_type": "code",
   "execution_count": null,
   "id": "250c3b0f",
   "metadata": {},
   "outputs": [],
   "source": []
  }
 ],
 "metadata": {
  "kernelspec": {
   "display_name": "Python 3 (ipykernel)",
   "language": "python",
   "name": "python3"
  },
  "language_info": {
   "codemirror_mode": {
    "name": "ipython",
    "version": 3
   },
   "file_extension": ".py",
   "mimetype": "text/x-python",
   "name": "python",
   "nbconvert_exporter": "python",
   "pygments_lexer": "ipython3",
   "version": "3.9.7"
  }
 },
 "nbformat": 4,
 "nbformat_minor": 5
}
