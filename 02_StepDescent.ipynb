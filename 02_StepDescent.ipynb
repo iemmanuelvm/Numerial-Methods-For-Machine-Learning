{
 "cells": [
  {
   "cell_type": "code",
   "execution_count": 2,
   "id": "f667b22a",
   "metadata": {},
   "outputs": [],
   "source": [
    "#Importamos las librerias\n",
    "import numpy as np\n",
    "import matplotlib.pyplot as plt\n",
    "from mpl_toolkits.mplot3d import Axes3D\n",
    "from matplotlib import cm\n",
    "import time\n",
    "from numpy import linalg as LA\n",
    "import random\n",
    "from time import time\n",
    "%matplotlib qt"
   ]
  },
  {
   "cell_type": "code",
   "execution_count": 3,
   "id": "e1e23ff4",
   "metadata": {},
   "outputs": [],
   "source": [
    "#Definimos la funcion a minimizar\n",
    "def f(x):\n",
    "    fx = 100*(np.sqrt(x[0]**2+(x[1]+1)**2)-1)**2 + 90*(np.sqrt(x[0]**2+(x[1]+1)**2)-1)**2 -(20*x[0]+40*x[1])\n",
    "    return fx"
   ]
  },
  {
   "cell_type": "code",
   "execution_count": 4,
   "id": "ce58ed04",
   "metadata": {},
   "outputs": [],
   "source": [
    "#Definir funcion para calcular la matriz del gradiente\n",
    "def gradient(x,delta):\n",
    "    grad=np.zeros(2)\n",
    "    grad[0]=(f([x[0]+delta,x[1]])- f([x[0]-delta,x[1]]))/(2*delta)\n",
    "    grad[1]=(f([x[0],x[1]+delta])- f([x[0],x[1]-delta]))/(2*delta)\n",
    "    return grad"
   ]
  },
  {
   "cell_type": "code",
   "execution_count": 5,
   "id": "53ac21f1",
   "metadata": {},
   "outputs": [],
   "source": [
    "#Definir funcion para calcular la matriz Hessiana\n",
    "def Hessian(x,delta):\n",
    "    H=np.zeros([2,2])\n",
    "    H[0,0]= (f([x[0]+delta,x[1]]) - 2*f([x[0],x[1]]) +  f([x[0]-delta,x[1]]))/(delta**2)\n",
    "    H[1,1]= (f([x[0],x[1]+delta]) - 2*f([x[0],x[1]]) +  f([x[0],x[1]-delta]))/(delta**2)\n",
    "    H[0,1]= (f([x[0]+delta,x[1]+delta]) - f([x[0]+delta,x[1]-delta]) - f([x[0]-delta,x[1]+delta]) +  f([x[0]-delta,x[1]-delta]))/(4*delta**2)\n",
    "    H[1,0]= H[0,1]\n",
    "    return H"
   ]
  },
  {
   "cell_type": "code",
   "execution_count": 6,
   "id": "f2093abc",
   "metadata": {},
   "outputs": [],
   "source": [
    "#Utilizamos el algoritmo de golden section para encontrar alpha optimo\n",
    "def golden(x,search,xi,eps):\n",
    "    a = xi[0];\n",
    "    b = xi[1];\n",
    "    tau = 0.381967;\n",
    "    alpha1 = a*(1-tau) + b*tau;\n",
    "    alpha2 = a*tau + b*(1-tau);\n",
    "    falpha1 = f(x+alpha1*search);\n",
    "    falpha2 = f(x+alpha2*search);\n",
    "    for i in range(100):\n",
    "        if falpha1 > falpha2:\n",
    "            a = alpha1;\n",
    "            alpha1 = alpha2;\n",
    "            falpha1 = falpha2;\n",
    "            alpha2 = tau*a + (1-tau)*b;\n",
    "            falpha2 = f(x+alpha2*search);\n",
    "        else:\n",
    "            b = alpha2;\n",
    "            alpha2 = alpha1;\n",
    "            falpha2 = falpha1;\n",
    "            alpha1 = tau*b + (1-tau)*a;\n",
    "            falpha1 = f(x+alpha1*search);\n",
    "        if np.abs(f(x+alpha1*search)- f(x+alpha2*search)) < eps :\n",
    "            break;\n",
    "    return alpha1,falpha1"
   ]
  },
  {
   "cell_type": "code",
   "execution_count": 7,
   "id": "9641c12c",
   "metadata": {},
   "outputs": [],
   "source": [
    "#Graficamos la funcion de prueba\n",
    "X1 = np.arange(-5, 5, 0.01)\n",
    "X2 = np.arange(-5, 5, 0.01)\n",
    "x1, x2 = np.meshgrid(X1, X2)\n",
    "z = f([x1,x2])\n",
    "fig = plt.figure()\n",
    "ax = fig.add_subplot(projection = '3d')\n",
    "surf = ax.plot_surface(x1, x2, z, cmap=cm.autumn, linewidth=0, antialiased = False, alpha=0.2)\n",
    "plt.show()"
   ]
  },
  {
   "cell_type": "code",
   "execution_count": 8,
   "id": "e418d243",
   "metadata": {},
   "outputs": [],
   "source": [
    "#Variable en comun de los métodos\n",
    "delta = 1e-3 \n",
    "ep1 = 1e-3\n",
    "puntosSD = []"
   ]
  },
  {
   "cell_type": "code",
   "execution_count": 9,
   "id": "17ae4409",
   "metadata": {},
   "outputs": [],
   "source": [
    "def graficaUnaaUna(puntos, nombreMetodo):\n",
    "    #Generamos valores ramdom para generar un color diferente de grafica\n",
    "    r = random.random()\n",
    "    b = random.random()\n",
    "    g = random.random()\n",
    "    color = (r, g, b)\n",
    "    aux = 0\n",
    "    x = np.linspace(-1, 1, 100)\n",
    "    y = np.linspace(-1, 1, 100)\n",
    "    xx, yy = np.meshgrid(x, y)\n",
    "    z = f([xx, yy])\n",
    "    plt.contour(x,y,z,20)\n",
    "    plt.plot(-1,-1, 'ro--',  markersize=6)\n",
    "    plt.plot(0.5,0, 'go--', markersize=6)\n",
    "    #Graficamos los trazos (direcciones) que va generando el algoritmo\n",
    "    for pts in puntos:\n",
    "        if(aux==len(puntos)-1):\n",
    "            plt.plot(pts[0],pts[1], c=color, linewidth=2, label=str(nombreMetodo))\n",
    "        else:\n",
    "            plt.plot(pts[0],pts[1], c=color, linewidth=2)\n",
    "        aux = aux + 1\n",
    "    plt.legend()    \n",
    "    plt.show"
   ]
  },
  {
   "cell_type": "code",
   "execution_count": 10,
   "id": "d7cfa8ff",
   "metadata": {},
   "outputs": [
    {
     "name": "stdout",
     "output_type": "stream",
     "text": [
      "Valor de la función inicial = 270.294169 \n",
      "0\t[-0.3892,-0.0092]\t\t8.9425\t\t444.3158\n",
      "1\t[-0.0345,0.2013]\t\t0.3751\t\t33.6772\n",
      "2\t[0.0410,0.0766]\t\t-2.7472\t\t42.8521\n",
      "3\t[0.1616,0.1444]\t\t-4.3989\t\t21.6597\n",
      "4\t[0.2127,0.0633]\t\t-5.4337\t\t21.9813\n",
      "5\t[0.2783,0.1043]\t\t-6.0764\t\t16.1606\n",
      "6\t[0.3148,0.0471]\t\t-6.5224\t\t13.2170\n",
      "7\t[0.3540,0.0712]\t\t-6.8064\t\t11.4880\n",
      "8\t[0.3868,0.0277]\t\t-7.0162\t\t7.8351\n",
      "9\t[0.4105,0.0454]\t\t-7.1464\t\t8.5604\n",
      "10\t[0.4349,0.0157]\t\t-7.2356\t\t4.5741\n",
      "11\t[0.4483,0.0261]\t\t-7.2851\t\t5.4709\n",
      "12\t[0.4691,0.0061]\t\t-7.3234\t\t2.4656\n",
      "13\t[0.4763,0.0126]\t\t-7.3382\t\t3.1097\n",
      "14\t[0.4833,0.0040]\t\t-7.3451\t\t1.1885\n",
      "15\t[0.4869,0.0067]\t\t-7.3485\t\t1.4562\n",
      "16\t[0.4926,0.0006]\t\t-7.3509\t\t0.6321\n",
      "17\t[0.4930,0.0011]\t\t-7.3509\t\t0.9605\n",
      "Tiempo transcurrido: 10.963678\n",
      "Iteraciones: 17\n"
     ]
    }
   ],
   "source": [
    "start_time = time() #Conteo para tiempo\n",
    "iteraciones = 0 #Conteo de numero de iteraciones\n",
    "xi_sd = [-1,1] #Punto de partida\n",
    "xi_1 = [-1,1] #Punto inicial para el metodo del golden section\n",
    "fx_value = f(xi_sd) #Se evalua la funcion con el punto inicial\n",
    "print('Valor de la función inicial = %f ' % fx_value)\n",
    "for i in range(1000): #Proceso iterativo del algoritmo\n",
    "    grad = gradient(xi_1,delta) #Se obtiene el vector del gradiente de la funcion objetivo\n",
    "    si = -grad #La direccion de busqueda es el gradiente negativo\n",
    "    alpha, fx_curr = golden(xi_1,si,xi_sd,ep1) #Se encuentra el alpha optimo (tamaño de paso)\n",
    "    x_opt = xi_1 + alpha*si #Se encuentra el nuevo optimo\n",
    "    if abs(fx_curr-fx_value)<ep1 or LA.norm(grad)<ep1: #Establecemos como condicion de paro, que la diferencia fx_anterior-fx_actual sea menor a epsilon o que la norma del gradiente sea menor a epsilon\n",
    "        print('{0}\\t[{1:.4f},{2:.4f}]\\t\\t{3:.4f}\\t\\t{4:.4f}'.format(i, x_opt[0], x_opt[1],fx_value,LA.norm(grad)))\n",
    "        break\n",
    "    fx_value=fx_curr #Ahora fx_value se iguala con el actual, de esta forma el actual ahora es el anterior\n",
    "    print('{0}\\t[{1:.4f},{2:.4f}]\\t\\t{3:.4f}\\t\\t{4:.4f}'.format(i, x_opt[0], x_opt[1],fx_value,LA.norm(grad)))\n",
    "    puntosSD.append([[xi_1[0],x_opt[0]],[xi_1[1],x_opt[1]]]) #Almacenamos los punto de direccion del algoritmo\n",
    "    xi_1=x_opt #ahora x anterior es x_opt\n",
    "    iteraciones += 1\n",
    "elapsed_time = (time() - start_time)*1000\n",
    "print(\"Tiempo transcurrido: %f\" % elapsed_time)\n",
    "print(\"Iteraciones: %d\" % iteraciones)\n",
    "#Graficamos el resultado del Steepest descent method\n",
    "graficaUnaaUna(puntosSD, 'Steepest descent method')"
   ]
  }
 ],
 "metadata": {
  "kernelspec": {
   "display_name": "Python 3 (ipykernel)",
   "language": "python",
   "name": "python3"
  },
  "language_info": {
   "codemirror_mode": {
    "name": "ipython",
    "version": 3
   },
   "file_extension": ".py",
   "mimetype": "text/x-python",
   "name": "python",
   "nbconvert_exporter": "python",
   "pygments_lexer": "ipython3",
   "version": "3.9.7"
  }
 },
 "nbformat": 4,
 "nbformat_minor": 5
}
