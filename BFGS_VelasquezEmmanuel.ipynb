{
 "cells": [
  {
   "cell_type": "code",
   "execution_count": 1,
   "id": "6360f16e",
   "metadata": {},
   "outputs": [],
   "source": [
    "#Importamos las modulos\n",
    "import numpy as np\n",
    "import matplotlib.pyplot as plt\n",
    "from mpl_toolkits.mplot3d import Axes3D\n",
    "from matplotlib import cm\n",
    "import time\n",
    "from numpy import linalg as LA\n",
    "import random\n",
    "from time import time\n",
    "%matplotlib qt"
   ]
  },
  {
   "cell_type": "code",
   "execution_count": 2,
   "id": "290f95f5",
   "metadata": {},
   "outputs": [],
   "source": [
    "#Definimos la funcion a minimizar\n",
    "def f(x):\n",
    "    fx = 100*(np.sqrt(x[0]**2+(x[1]+1)**2)-1)**2 + 90*(np.sqrt(x[0]**2+(x[1]+1)**2)-1)**2 -(20*x[0]+40*x[1])\n",
    "    return fx"
   ]
  },
  {
   "cell_type": "code",
   "execution_count": 3,
   "id": "727576c1",
   "metadata": {},
   "outputs": [],
   "source": [
    "#Definir funcion para calcular la matriz del gradiente\n",
    "def gradient(x,delta):\n",
    "    grad=np.zeros(2)\n",
    "    grad[0]=(f([x[0]+delta,x[1]])- f([x[0]-delta,x[1]]))/(2*delta)\n",
    "    grad[1]=(f([x[0],x[1]+delta])- f([x[0],x[1]-delta]))/(2*delta)\n",
    "    return grad"
   ]
  },
  {
   "cell_type": "code",
   "execution_count": 4,
   "id": "c7d6313b",
   "metadata": {},
   "outputs": [],
   "source": [
    "#Utilizamos el algoritmo de golden section para encontrar alpha optimo\n",
    "def golden(x,search,xi,eps):\n",
    "    a = xi[0];\n",
    "    b = xi[1];\n",
    "    tau = 0.381967;\n",
    "    alpha1 = a*(1-tau) + b*tau;\n",
    "    alpha2 = a*tau + b*(1-tau);\n",
    "    falpha1 = f(x+alpha1*search);\n",
    "    falpha2 = f(x+alpha2*search);\n",
    "    for i in range(100):\n",
    "        if falpha1 > falpha2:\n",
    "            a = alpha1;\n",
    "            alpha1 = alpha2;\n",
    "            falpha1 = falpha2;\n",
    "            alpha2 = tau*a + (1-tau)*b;\n",
    "            falpha2 = f(x+alpha2*search);\n",
    "        else:\n",
    "            b = alpha2;\n",
    "            alpha2 = alpha1;\n",
    "            falpha2 = falpha1;\n",
    "            alpha1 = tau*b + (1-tau)*a;\n",
    "            falpha1 = f(x+alpha1*search);\n",
    "        if np.abs(f(x+alpha1*search)- f(x+alpha2*search)) < eps :\n",
    "            break;\n",
    "    return alpha1,falpha1"
   ]
  },
  {
   "cell_type": "code",
   "execution_count": 5,
   "id": "483508af",
   "metadata": {},
   "outputs": [],
   "source": [
    "#Graficamos la funcion de prueba\n",
    "X1 = np.arange(-5, 5, 0.01)\n",
    "X2 = np.arange(-5, 5, 0.01)\n",
    "x1, x2 = np.meshgrid(X1, X2)\n",
    "z = f([x1,x2])\n",
    "fig = plt.figure()\n",
    "ax = fig.add_subplot(projection = '3d')\n",
    "surf = ax.plot_surface(x1, x2, z, cmap=cm.autumn, linewidth=0, antialiased = False, alpha=0.2)\n",
    "plt.show()"
   ]
  },
  {
   "cell_type": "code",
   "execution_count": 6,
   "id": "fff0c5b6",
   "metadata": {},
   "outputs": [],
   "source": [
    "#Variable en comun de los métodos\n",
    "delta = 1e-3 \n",
    "ep1 = 1e-3\n",
    "puntosBFGS = []"
   ]
  },
  {
   "cell_type": "code",
   "execution_count": 7,
   "id": "e19d5e5e",
   "metadata": {},
   "outputs": [],
   "source": [
    "def graficaUnaaUna(puntos, nombreMetodo):\n",
    "    #Generamos valores ramdom para generar un color diferente de grafica\n",
    "    r = random.random()\n",
    "    b = random.random()\n",
    "    g = random.random()\n",
    "    color = (r, g, b)\n",
    "    aux = 0\n",
    "    x = np.linspace(-1.3, 1.3, 100)\n",
    "    y = np.linspace(-3, 1.3, 100)\n",
    "    xx, yy = np.meshgrid(x, y)\n",
    "    z = f([xx, yy])\n",
    "    plt.contour(x,y,z,20)\n",
    "    plt.plot(-1,1, 'ro--',  markersize=6)\n",
    "    plt.plot(0.5,0, 'go--', markersize=6)\n",
    "    #Graficamos los trazos (direcciones) que va generando el algoritmo\n",
    "    for pts in puntos:\n",
    "        if(aux==len(puntos)-1):\n",
    "            plt.plot(pts[0],pts[1], c=color, linewidth=2, label=str(nombreMetodo))\n",
    "        else:\n",
    "            plt.plot(pts[0],pts[1], c=color, linewidth=2)\n",
    "        aux = aux + 1\n",
    "    plt.legend()    \n",
    "    plt.show"
   ]
  },
  {
   "cell_type": "markdown",
   "id": "7c9b93de",
   "metadata": {},
   "source": [
    "## BFGS method"
   ]
  },
  {
   "cell_type": "code",
   "execution_count": 8,
   "id": "d23f7701",
   "metadata": {},
   "outputs": [
    {
     "name": "stdout",
     "output_type": "stream",
     "text": [
      "270.29416855008\n",
      "0\t[1.2420,-2.7043]\t\t55.8889\t\t444.3158\n",
      "1\t[0.1960,-1.9523]\t\t74.3165\t\t443.6934\n",
      "2\t[1.1232,-1.2909]\t\t34.0478\t\t37.0109\n",
      "3\t[1.2709,-0.9555]\t\t26.8304\t\t67.5989\n",
      "4\t[0.9382,-0.1791]\t\t-0.0429\t\t90.7990\n",
      "5\t[0.8071,-0.2531]\t\t-4.1299\t\t55.0008\n",
      "6\t[0.6996,-0.1247]\t\t-6.2440\t\t16.2680\n",
      "7\t[0.5770,-0.0139]\t\t-7.1258\t\t9.5776\n",
      "8\t[0.5498,-0.0090]\t\t-7.2601\t\t9.9599\n",
      "9\t[0.5271,-0.0059]\t\t-7.3280\t\t6.2747\n",
      "10\t[0.5150,-0.0034]\t\t-7.3452\t\t3.0428\n",
      "11\t[0.5094,-0.0023]\t\t-7.3499\t\t1.6811\n",
      "12\t[0.5058,-0.0015]\t\t-7.3518\t\t1.0342\n",
      "13\t[0.5058,-0.0015]\t\t-7.3525\t\t0.6400\n",
      "Tiempo transcurrido: 6.977797\n",
      "Iteraciones: 14\n"
     ]
    }
   ],
   "source": [
    "start_time = time() #Conteo para tiempo\n",
    "iteraciones = 1 #Conteo de numero de iteraciones\n",
    "#Test the point Xi+1 for optimality. If ||∇fi+1|| ≤ 𝜀, where 𝜀 is a small quantity,\n",
    "#take X* ≈ X i+1 and stop the process. Otherwise, go to step 5.\n",
    "#1. Start with an initial point X1\n",
    "xi = [-1,1]\n",
    "xi_1 = xi\n",
    "#n × n positive definite symmetric matrix [B1] as an initial estimate of the inverse of the Hessian matrix of f\n",
    "#In the absence of additional information, [B1] is taken as the identity matrix [I].\n",
    "Bi = np.eye(len(xi))\n",
    "print(f(xi))\n",
    "fx_prev=f(xi)\n",
    "gF_xi = gradient(xi_1, delta)\n",
    "#2. Compute the gradient of the function, ∇fi, at point Xi, and set\n",
    "Si = np.matmul(Bi,gF_xi)\n",
    "#3. Find the optimal step length λ∗i in the direction Si and set\n",
    "alpha, fx = golden(xi_1,Si,xi,ep1)\n",
    "xi_1 = xi - alpha*Si\n",
    "for i in range(1000): #Proceso iterativo del algoritmo\n",
    "    #Compute the gradient vector ∇f1 = ∇f(X1) and set the iteration number as i = 1.\n",
    "    gF_xi = gradient(xi, delta)\n",
    "    #2. Compute the gradient of the function, ∇fi, at point Xi, and set\n",
    "    Si = np.matmul(np.dot(1, Bi),gF_xi)\n",
    "    #3. Find the optimal step length λ∗i in the direction Si and set\n",
    "    alpha, fx = golden(xi_1,Si,xi,ep1)\n",
    "    xi_1 = xi + np.dot(alpha, Si)\n",
    "    #4. Test the point Xi+1 for optimality. If ||∇fi+1|| ≤ 𝜀, where 𝜀 is a small quantity, take X* ≈ X i+1 and stop the process. Otherwise, go to step 5.\n",
    "    if(LA.norm(gF_xi)<ep1 or abs(fx-fx_prev)<ep1):\n",
    "        print('{0}\\t[{1:.4f},{2:.4f}]\\t\\t{3:.4f}\\t\\t{4:.4f}'.format(i, xi[0], xi[1],fx,LA.norm(gF_xi)))\n",
    "        break\n",
    "    else:\n",
    "        g1 = np.reshape(gradient(xi_1, delta),(2,1)) - np.reshape(gF_xi,(2,1))\n",
    "        d1 = np.reshape(np.array(xi),(2,1)) - np.reshape(xi_1,(2,1))\n",
    "        d1d1t = np.dot(d1, np.reshape(d1,(1,2)))\n",
    "        d1tg1 = np.matmul(d1.transpose(),g1)\n",
    "        d1g1t = np.matmul(d1, g1.transpose())\n",
    "        g1d1t = np.matmul(g1, d1.transpose())\n",
    "        g1tb1g1 = np.matmul(np.matmul(g1.transpose(), Bi), g1)\n",
    "        d1g1tb1 = np.matmul(d1g1t,Bi)\n",
    "        b1g1d1t = np.matmul(Bi, g1d1t)\n",
    "        Bi = Bi + ((1+(g1tb1g1/d1tg1))*(d1d1t/d1tg1)) - (d1g1tb1/d1tg1) - (b1g1d1t/d1tg1) \n",
    "    puntosBFGS.append([[xi_1[0],xi[0]],[xi_1[1],xi[1]]])\n",
    "    xi = xi_1\n",
    "    fx_prev = fx\n",
    "    iteraciones += 1\n",
    "    print('{0}\\t[{1:.4f},{2:.4f}]\\t\\t{3:.4f}\\t\\t{4:.4f}'.format(i, xi[0], xi[1],fx,LA.norm(gF_xi)))\n",
    "elapsed_time = (time() - start_time)*1000\n",
    "print(\"Tiempo transcurrido: %f\" % elapsed_time)\n",
    "print(\"Iteraciones: %d\" % iteraciones)\n",
    "#Graficamos el resultado del Steepest descent method\n",
    "graficaUnaaUna(puntosBFGS, 'BFGS method')    "
   ]
  },
  {
   "cell_type": "code",
   "execution_count": null,
   "id": "975f9885",
   "metadata": {},
   "outputs": [],
   "source": []
  }
 ],
 "metadata": {
  "kernelspec": {
   "display_name": "Python 3 (ipykernel)",
   "language": "python",
   "name": "python3"
  },
  "language_info": {
   "codemirror_mode": {
    "name": "ipython",
    "version": 3
   },
   "file_extension": ".py",
   "mimetype": "text/x-python",
   "name": "python",
   "nbconvert_exporter": "python",
   "pygments_lexer": "ipython3",
   "version": "3.9.7"
  }
 },
 "nbformat": 4,
 "nbformat_minor": 5
}
